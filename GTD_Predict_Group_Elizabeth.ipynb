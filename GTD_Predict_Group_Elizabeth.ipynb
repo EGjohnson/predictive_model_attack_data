{
 "cells": [
  {
   "cell_type": "markdown",
   "metadata": {},
   "source": [
    "# GTD prediction model\n",
    "Use attack type, weapons used, description of the attack, etc. to build a model that can predict what group may have been responsible for an incident.\n",
    "\n",
    "* The prediction model used: random forest classifier\n",
    "* special feature: spatial clustering to identify terrorism hotspots\n",
    "    * terrorism can crop in regions that are not well described by borders\n",
    "    * used latitude and longitude of attacks to identify high density areas of attacks\n",
    "    * assigned every attack to a hotspot\n",
    "* data selection: \n",
    "    * did not use 30% or greater missing features\n",
    "    * combined parameters to reduce feature space\n",
    "* memory workarounds:\n",
    "    * predictive model iterated on subsets of data\n",
    "    * optimized tree depth\n",
    "\n",
    "  "
   ]
  },
  {
   "cell_type": "code",
   "execution_count": 1,
   "metadata": {
    "collapsed": false
   },
   "outputs": [],
   "source": [
    "# Load the library with the iris dataset\n",
    "from sklearn.datasets import load_iris\n",
    "# Load scikit's random forest classifier library\n",
    "from sklearn.ensemble import RandomForestClassifier\n",
    "from sklearn.metrics import confusion_matrix\n",
    "# Load pandas\n",
    "import pandas as pd\n",
    "# Load numpy\n",
    "import numpy as np\n",
    "# Set random seed\n",
    "np.random.seed(0)\n",
    "from sklearn.preprocessing import Imputer\n",
    "from sklearn.metrics import accuracy_score\n",
    "import matplotlib.pyplot as plt \n",
    "%matplotlib inline"
   ]
  },
  {
   "cell_type": "code",
   "execution_count": 2,
   "metadata": {
    "collapsed": false
   },
   "outputs": [],
   "source": [
    "mycol=pd.read_csv(\"rawdata/col_index.txt\",delim_whitespace=1)\n",
    "myindex=list(np.array([int(i) for i in list(mycol)])-1)+[13,14] #add latitude longitude"
   ]
  },
  {
   "cell_type": "code",
   "execution_count": 3,
   "metadata": {
    "collapsed": true
   },
   "outputs": [],
   "source": [
    "df = pd.read_csv(\"rawdata/globalterrorismdb_0617dist.csv\",encoding='ISO-8859-1',usecols=myindex)"
   ]
  },
  {
   "cell_type": "markdown",
   "metadata": {},
   "source": [
    "# Data Inspection and Cleaning"
   ]
  },
  {
   "cell_type": "markdown",
   "metadata": {},
   "source": [
    "## a) convert datatypes to category, numeric, integer "
   ]
  },
  {
   "cell_type": "code",
   "execution_count": 4,
   "metadata": {
    "collapsed": false
   },
   "outputs": [],
   "source": [
    "convert_to_cat=[\"extended\",\n",
    "                \"country_txt\",\"region_txt\",\"provstate\",\n",
    "                \"crit1\",\"crit2\",\"crit3\",\"doubtterr\",\n",
    "                \"suicide\",\"attacktype1_txt\",\"targtype1_txt\",\"natlty1_txt\",\n",
    "                \"gname\",\"guncertain1\",\"individual\",\"weaptype1_txt\",\n",
    "               \"property\",\"ishostkid\",\n",
    "                \"INT_LOG\",\"INT_IDEO\",\"INT_MISC\",\"INT_ANY\"]\n",
    "\n",
    "\n",
    "convert_to_float=[\"extended\",\"nkill\",\"nwound\",\"latitude\",\"longitude\"]"
   ]
  },
  {
   "cell_type": "code",
   "execution_count": 5,
   "metadata": {
    "collapsed": false
   },
   "outputs": [],
   "source": [
    "df[['iday', 'imonth','iyear']] = df[['iday', 'imonth','iyear']].astype(int)\n",
    "\n",
    "for thecol in convert_to_cat:\n",
    "    df[thecol]=df[thecol].astype('category')\n",
    "for thecol in convert_to_float:\n",
    "    df[thecol]=df[thecol].astype(float)"
   ]
  },
  {
   "cell_type": "markdown",
   "metadata": {},
   "source": [
    "## b) calculate new columns from data"
   ]
  },
  {
   "cell_type": "code",
   "execution_count": 6,
   "metadata": {
    "collapsed": true
   },
   "outputs": [],
   "source": [
    "df[\"datetime\"]=pd.to_datetime(df[\"iday\"],df[\"imonth\"],df[\"iyear\"])\n",
    "df=df.drop('iday',axis=1)"
   ]
  },
  {
   "cell_type": "code",
   "execution_count": 7,
   "metadata": {
    "collapsed": false
   },
   "outputs": [],
   "source": [
    "#df['imonth']=df['imonth'].astype('category')\n",
    "#df['iyear']=df['iyear'].astype('category')"
   ]
  },
  {
   "cell_type": "code",
   "execution_count": 8,
   "metadata": {
    "collapsed": false
   },
   "outputs": [],
   "source": [
    "df['nwound'].fillna(0).astype(int)\n",
    "df['nkill'].fillna(0).astype(int)\n",
    "df['ncasualities']=df['nkill']+df['nwound']\n",
    "df=df.drop(['nwound','nkill'], axis=1)"
   ]
  },
  {
   "cell_type": "markdown",
   "metadata": {},
   "source": [
    "## c) summarize data"
   ]
  },
  {
   "cell_type": "code",
   "execution_count": 9,
   "metadata": {
    "collapsed": false
   },
   "outputs": [
    {
     "data": {
      "text/html": [
       "<div>\n",
       "<table border=\"1\" class=\"dataframe\">\n",
       "  <thead>\n",
       "    <tr style=\"text-align: right;\">\n",
       "      <th></th>\n",
       "      <th>country_txt</th>\n",
       "      <th>region_txt</th>\n",
       "      <th>provstate</th>\n",
       "      <th>crit1</th>\n",
       "      <th>crit2</th>\n",
       "      <th>crit3</th>\n",
       "      <th>doubtterr</th>\n",
       "      <th>suicide</th>\n",
       "      <th>attacktype1_txt</th>\n",
       "      <th>targtype1_txt</th>\n",
       "    </tr>\n",
       "  </thead>\n",
       "  <tbody>\n",
       "    <tr>\n",
       "      <th>count</th>\n",
       "      <td>170350</td>\n",
       "      <td>170350</td>\n",
       "      <td>155848</td>\n",
       "      <td>170350</td>\n",
       "      <td>170350</td>\n",
       "      <td>170350</td>\n",
       "      <td>170350</td>\n",
       "      <td>170350</td>\n",
       "      <td>170350</td>\n",
       "      <td>170350</td>\n",
       "    </tr>\n",
       "    <tr>\n",
       "      <th>unique</th>\n",
       "      <td>205</td>\n",
       "      <td>12</td>\n",
       "      <td>2494</td>\n",
       "      <td>2</td>\n",
       "      <td>2</td>\n",
       "      <td>2</td>\n",
       "      <td>3</td>\n",
       "      <td>2</td>\n",
       "      <td>9</td>\n",
       "      <td>22</td>\n",
       "    </tr>\n",
       "    <tr>\n",
       "      <th>top</th>\n",
       "      <td>Iraq</td>\n",
       "      <td>Middle East &amp; North Africa</td>\n",
       "      <td>Baghdad</td>\n",
       "      <td>1</td>\n",
       "      <td>1</td>\n",
       "      <td>1</td>\n",
       "      <td>0</td>\n",
       "      <td>0</td>\n",
       "      <td>Bombing/Explosion</td>\n",
       "      <td>Private Citizens &amp; Property</td>\n",
       "    </tr>\n",
       "    <tr>\n",
       "      <th>freq</th>\n",
       "      <td>22130</td>\n",
       "      <td>46511</td>\n",
       "      <td>7238</td>\n",
       "      <td>168381</td>\n",
       "      <td>169155</td>\n",
       "      <td>149877</td>\n",
       "      <td>129942</td>\n",
       "      <td>164580</td>\n",
       "      <td>83073</td>\n",
       "      <td>39994</td>\n",
       "    </tr>\n",
       "  </tbody>\n",
       "</table>\n",
       "</div>"
      ],
      "text/plain": [
       "       country_txt                  region_txt provstate   crit1   crit2  \\\n",
       "count       170350                      170350    155848  170350  170350   \n",
       "unique         205                          12      2494       2       2   \n",
       "top           Iraq  Middle East & North Africa   Baghdad       1       1   \n",
       "freq         22130                       46511      7238  168381  169155   \n",
       "\n",
       "         crit3  doubtterr  suicide    attacktype1_txt  \\\n",
       "count   170350     170350   170350             170350   \n",
       "unique       2          3        2                  9   \n",
       "top          1          0        0  Bombing/Explosion   \n",
       "freq    149877     129942   164580              83073   \n",
       "\n",
       "                      targtype1_txt  \n",
       "count                        170350  \n",
       "unique                           22  \n",
       "top     Private Citizens & Property  \n",
       "freq                          39994  "
      ]
     },
     "execution_count": 9,
     "metadata": {},
     "output_type": "execute_result"
    }
   ],
   "source": [
    "dfsumcat=df.describe(include=['category'])\n",
    "dfsumcat.iloc[:,0:10]"
   ]
  },
  {
   "cell_type": "code",
   "execution_count": 10,
   "metadata": {
    "collapsed": false
   },
   "outputs": [
    {
     "data": {
      "text/html": [
       "<div>\n",
       "<table border=\"1\" class=\"dataframe\">\n",
       "  <thead>\n",
       "    <tr style=\"text-align: right;\">\n",
       "      <th></th>\n",
       "      <th>natlty1_txt</th>\n",
       "      <th>gname</th>\n",
       "      <th>guncertain1</th>\n",
       "      <th>individual</th>\n",
       "      <th>weaptype1_txt</th>\n",
       "      <th>property</th>\n",
       "      <th>ishostkid</th>\n",
       "      <th>INT_LOG</th>\n",
       "      <th>INT_IDEO</th>\n",
       "      <th>INT_MISC</th>\n",
       "    </tr>\n",
       "  </thead>\n",
       "  <tbody>\n",
       "    <tr>\n",
       "      <th>count</th>\n",
       "      <td>168956</td>\n",
       "      <td>170350</td>\n",
       "      <td>169971</td>\n",
       "      <td>170350</td>\n",
       "      <td>170350</td>\n",
       "      <td>170350</td>\n",
       "      <td>170172</td>\n",
       "      <td>170350</td>\n",
       "      <td>170350</td>\n",
       "      <td>170350</td>\n",
       "    </tr>\n",
       "    <tr>\n",
       "      <th>unique</th>\n",
       "      <td>213</td>\n",
       "      <td>3454</td>\n",
       "      <td>2</td>\n",
       "      <td>2</td>\n",
       "      <td>12</td>\n",
       "      <td>3</td>\n",
       "      <td>3</td>\n",
       "      <td>3</td>\n",
       "      <td>3</td>\n",
       "      <td>3</td>\n",
       "    </tr>\n",
       "    <tr>\n",
       "      <th>top</th>\n",
       "      <td>Iraq</td>\n",
       "      <td>Unknown</td>\n",
       "      <td>0</td>\n",
       "      <td>0</td>\n",
       "      <td>Explosives/Bombs/Dynamite</td>\n",
       "      <td>1</td>\n",
       "      <td>0</td>\n",
       "      <td>-9</td>\n",
       "      <td>-9</td>\n",
       "      <td>0</td>\n",
       "    </tr>\n",
       "    <tr>\n",
       "      <th>freq</th>\n",
       "      <td>21625</td>\n",
       "      <td>78306</td>\n",
       "      <td>155633</td>\n",
       "      <td>169927</td>\n",
       "      <td>86704</td>\n",
       "      <td>90019</td>\n",
       "      <td>157411</td>\n",
       "      <td>87497</td>\n",
       "      <td>87629</td>\n",
       "      <td>149964</td>\n",
       "    </tr>\n",
       "  </tbody>\n",
       "</table>\n",
       "</div>"
      ],
      "text/plain": [
       "       natlty1_txt    gname  guncertain1  individual  \\\n",
       "count       168956   170350       169971      170350   \n",
       "unique         213     3454            2           2   \n",
       "top           Iraq  Unknown            0           0   \n",
       "freq         21625    78306       155633      169927   \n",
       "\n",
       "                    weaptype1_txt  property  ishostkid  INT_LOG  INT_IDEO  \\\n",
       "count                      170350    170350     170172   170350    170350   \n",
       "unique                         12         3          3        3         3   \n",
       "top     Explosives/Bombs/Dynamite         1          0       -9        -9   \n",
       "freq                        86704     90019     157411    87497     87629   \n",
       "\n",
       "        INT_MISC  \n",
       "count     170350  \n",
       "unique         3  \n",
       "top            0  \n",
       "freq      149964  "
      ]
     },
     "execution_count": 10,
     "metadata": {},
     "output_type": "execute_result"
    }
   ],
   "source": [
    "dfsumcat.iloc[:,10:20]"
   ]
  },
  {
   "cell_type": "code",
   "execution_count": 11,
   "metadata": {
    "collapsed": false
   },
   "outputs": [
    {
     "data": {
      "text/html": [
       "<div>\n",
       "<table border=\"1\" class=\"dataframe\">\n",
       "  <thead>\n",
       "    <tr style=\"text-align: right;\">\n",
       "      <th></th>\n",
       "      <th>eventid</th>\n",
       "      <th>iyear</th>\n",
       "      <th>imonth</th>\n",
       "      <th>extended</th>\n",
       "      <th>latitude</th>\n",
       "      <th>longitude</th>\n",
       "      <th>ncasualities</th>\n",
       "    </tr>\n",
       "  </thead>\n",
       "  <tbody>\n",
       "    <tr>\n",
       "      <th>count</th>\n",
       "      <td>1.703500e+05</td>\n",
       "      <td>170350.000000</td>\n",
       "      <td>170350.000000</td>\n",
       "      <td>170350.000000</td>\n",
       "      <td>165744.000000</td>\n",
       "      <td>165744.000000</td>\n",
       "      <td>154524.000000</td>\n",
       "    </tr>\n",
       "    <tr>\n",
       "      <th>mean</th>\n",
       "      <td>2.001776e+11</td>\n",
       "      <td>2001.709997</td>\n",
       "      <td>6.474365</td>\n",
       "      <td>0.043634</td>\n",
       "      <td>23.399774</td>\n",
       "      <td>26.350909</td>\n",
       "      <td>5.312327</td>\n",
       "    </tr>\n",
       "    <tr>\n",
       "      <th>std</th>\n",
       "      <td>1.314444e+09</td>\n",
       "      <td>13.144146</td>\n",
       "      <td>3.392364</td>\n",
       "      <td>0.204279</td>\n",
       "      <td>18.844885</td>\n",
       "      <td>58.570068</td>\n",
       "      <td>40.798412</td>\n",
       "    </tr>\n",
       "    <tr>\n",
       "      <th>min</th>\n",
       "      <td>1.970000e+11</td>\n",
       "      <td>1970.000000</td>\n",
       "      <td>0.000000</td>\n",
       "      <td>0.000000</td>\n",
       "      <td>-53.154613</td>\n",
       "      <td>-176.176447</td>\n",
       "      <td>0.000000</td>\n",
       "    </tr>\n",
       "    <tr>\n",
       "      <th>25%</th>\n",
       "      <td>1.990053e+11</td>\n",
       "      <td>1990.000000</td>\n",
       "      <td>4.000000</td>\n",
       "      <td>0.000000</td>\n",
       "      <td>11.263580</td>\n",
       "      <td>2.396199</td>\n",
       "      <td>0.000000</td>\n",
       "    </tr>\n",
       "    <tr>\n",
       "      <th>50%</th>\n",
       "      <td>2.007121e+11</td>\n",
       "      <td>2007.000000</td>\n",
       "      <td>6.000000</td>\n",
       "      <td>0.000000</td>\n",
       "      <td>31.472680</td>\n",
       "      <td>43.130000</td>\n",
       "      <td>1.000000</td>\n",
       "    </tr>\n",
       "    <tr>\n",
       "      <th>75%</th>\n",
       "      <td>2.014023e+11</td>\n",
       "      <td>2014.000000</td>\n",
       "      <td>9.000000</td>\n",
       "      <td>0.000000</td>\n",
       "      <td>34.744167</td>\n",
       "      <td>68.451297</td>\n",
       "      <td>4.000000</td>\n",
       "    </tr>\n",
       "    <tr>\n",
       "      <th>max</th>\n",
       "      <td>2.017013e+11</td>\n",
       "      <td>2016.000000</td>\n",
       "      <td>12.000000</td>\n",
       "      <td>1.000000</td>\n",
       "      <td>74.633553</td>\n",
       "      <td>179.366667</td>\n",
       "      <td>8749.000000</td>\n",
       "    </tr>\n",
       "  </tbody>\n",
       "</table>\n",
       "</div>"
      ],
      "text/plain": [
       "            eventid          iyear         imonth       extended  \\\n",
       "count  1.703500e+05  170350.000000  170350.000000  170350.000000   \n",
       "mean   2.001776e+11    2001.709997       6.474365       0.043634   \n",
       "std    1.314444e+09      13.144146       3.392364       0.204279   \n",
       "min    1.970000e+11    1970.000000       0.000000       0.000000   \n",
       "25%    1.990053e+11    1990.000000       4.000000       0.000000   \n",
       "50%    2.007121e+11    2007.000000       6.000000       0.000000   \n",
       "75%    2.014023e+11    2014.000000       9.000000       0.000000   \n",
       "max    2.017013e+11    2016.000000      12.000000       1.000000   \n",
       "\n",
       "            latitude      longitude   ncasualities  \n",
       "count  165744.000000  165744.000000  154524.000000  \n",
       "mean       23.399774      26.350909       5.312327  \n",
       "std        18.844885      58.570068      40.798412  \n",
       "min       -53.154613    -176.176447       0.000000  \n",
       "25%        11.263580       2.396199       0.000000  \n",
       "50%        31.472680      43.130000       1.000000  \n",
       "75%        34.744167      68.451297       4.000000  \n",
       "max        74.633553     179.366667    8749.000000  "
      ]
     },
     "execution_count": 11,
     "metadata": {},
     "output_type": "execute_result"
    }
   ],
   "source": [
    "dfsumnum=df.describe(include=[np.number])\n",
    "dfsumnum"
   ]
  },
  {
   "cell_type": "markdown",
   "metadata": {},
   "source": [
    "### missing data analysis"
   ]
  },
  {
   "cell_type": "code",
   "execution_count": 12,
   "metadata": {
    "collapsed": false
   },
   "outputs": [
    {
     "data": {
      "text/plain": [
       "eventid            0.000000\n",
       "iyear              0.000000\n",
       "imonth             0.000000\n",
       "extended           0.000000\n",
       "country_txt        0.000000\n",
       "region_txt         0.000000\n",
       "provstate          0.085131\n",
       "latitude           0.027038\n",
       "longitude          0.027038\n",
       "crit1              0.000000\n",
       "crit2              0.000000\n",
       "crit3              0.000000\n",
       "doubtterr          0.000000\n",
       "suicide            0.000000\n",
       "attacktype1_txt    0.000000\n",
       "targtype1_txt      0.000000\n",
       "natlty1_txt        0.008183\n",
       "gname              0.000000\n",
       "guncertain1        0.002225\n",
       "individual         0.000000\n",
       "weaptype1_txt      0.000000\n",
       "property           0.000000\n",
       "ishostkid          0.001045\n",
       "INT_LOG            0.000000\n",
       "INT_IDEO           0.000000\n",
       "INT_MISC           0.000000\n",
       "INT_ANY            0.000000\n",
       "datetime           0.000000\n",
       "ncasualities       0.092903\n",
       "dtype: float64"
      ]
     },
     "execution_count": 12,
     "metadata": {},
     "output_type": "execute_result"
    }
   ],
   "source": [
    "df.isnull().sum()/len(df)<0.30 #make sure at least 70 percent of data is present!\n",
    "#terror_data['injuries'] = terror_data['injuries'].fillna(0).astype(int)\n",
    "df.isnull().sum()/len(df)"
   ]
  },
  {
   "cell_type": "markdown",
   "metadata": {},
   "source": [
    "## d)  Data Imputation"
   ]
  },
  {
   "cell_type": "code",
   "execution_count": 13,
   "metadata": {
    "collapsed": true
   },
   "outputs": [],
   "source": [
    "col_many_cat=df.select_dtypes(include=['category']).apply(lambda x: len(x.unique())>12)\n",
    "#1. data has many categories: label na data as missing\n",
    "df_cat_hi=df.select_dtypes(include=['category']).ix[:,col_many_cat==True] \n",
    "df_cat_hi=df_cat_hi.apply(lambda x: x.cat.add_categories(['missing']).fillna('missing'))\n",
    "#2  data has few categories:impute na data as most frequent\n",
    "df_cat_lw=df.select_dtypes(include=['category']).ix[:,col_many_cat==False] \n",
    "df_cat_lw=df_cat_lw.apply(lambda x:x.fillna(x.value_counts().index[0]))"
   ]
  },
  {
   "cell_type": "code",
   "execution_count": 14,
   "metadata": {
    "collapsed": false
   },
   "outputs": [],
   "source": [
    "#3  data is numerical:impute na data as median (some of the data is skewed)\n",
    "df_num=df[[\"extended\",\"ncasualities\",\"iyear\",\"imonth\",\"latitude\",\"longitude\"]].apply(lambda x:x.fillna(x.median()))"
   ]
  },
  {
   "cell_type": "code",
   "execution_count": 15,
   "metadata": {
    "collapsed": false
   },
   "outputs": [],
   "source": [
    "df = pd.concat([df_num,df_cat_hi,df_cat_lw],axis=1)"
   ]
  },
  {
   "cell_type": "code",
   "execution_count": 16,
   "metadata": {
    "collapsed": false
   },
   "outputs": [
    {
     "data": {
      "text/plain": [
       "extended           0\n",
       "ncasualities       0\n",
       "iyear              0\n",
       "imonth             0\n",
       "latitude           0\n",
       "longitude          0\n",
       "country_txt        0\n",
       "provstate          0\n",
       "targtype1_txt      0\n",
       "natlty1_txt        0\n",
       "gname              0\n",
       "region_txt         0\n",
       "crit1              0\n",
       "crit2              0\n",
       "crit3              0\n",
       "doubtterr          0\n",
       "suicide            0\n",
       "attacktype1_txt    0\n",
       "guncertain1        0\n",
       "individual         0\n",
       "weaptype1_txt      0\n",
       "property           0\n",
       "ishostkid          0\n",
       "INT_LOG            0\n",
       "INT_IDEO           0\n",
       "INT_MISC           0\n",
       "INT_ANY            0\n",
       "dtype: float64"
      ]
     },
     "execution_count": 16,
     "metadata": {},
     "output_type": "execute_result"
    }
   ],
   "source": [
    "df.isnull().sum()/len(df)"
   ]
  },
  {
   "cell_type": "markdown",
   "metadata": {},
   "source": [
    "# modify data "
   ]
  },
  {
   "cell_type": "code",
   "execution_count": 17,
   "metadata": {
    "collapsed": false
   },
   "outputs": [],
   "source": [
    "df[\"ncasualities\"]=list(np.log10(np.array((df[\"ncasualities\"]))+1))\n",
    "setcrit=zip(list(df[\"crit1\"]),list(df[\"crit2\"]),list(df[\"crit3\"]))"
   ]
  },
  {
   "cell_type": "code",
   "execution_count": 18,
   "metadata": {
    "collapsed": false
   },
   "outputs": [],
   "source": [
    "df[\"critall\"]=[str(s[0])+str(s[1])+str(s[2]) for s in setcrit]"
   ]
  },
  {
   "cell_type": "code",
   "execution_count": 19,
   "metadata": {
    "collapsed": false
   },
   "outputs": [],
   "source": [
    "df['critall']=df['critall'].astype('category')"
   ]
  },
  {
   "cell_type": "markdown",
   "metadata": {},
   "source": [
    "# Identify Spatial Terrorism Hot Zones "
   ]
  },
  {
   "cell_type": "code",
   "execution_count": 20,
   "metadata": {
    "collapsed": true
   },
   "outputs": [],
   "source": [
    "from sklearn.cluster import DBSCAN"
   ]
  },
  {
   "cell_type": "code",
   "execution_count": 21,
   "metadata": {
    "collapsed": true
   },
   "outputs": [],
   "source": [
    "from geopy.distance import great_circle"
   ]
  },
  {
   "cell_type": "code",
   "execution_count": 22,
   "metadata": {
    "collapsed": false
   },
   "outputs": [],
   "source": [
    "from shapely.geometry import MultiPoint"
   ]
  },
  {
   "cell_type": "code",
   "execution_count": 23,
   "metadata": {
    "collapsed": true
   },
   "outputs": [],
   "source": [
    "# Define coordinates \n",
    "coords = df.as_matrix(columns=['latitude', 'longitude'])"
   ]
  },
  {
   "cell_type": "code",
   "execution_count": 24,
   "metadata": {
    "collapsed": false
   },
   "outputs": [],
   "source": [
    "subcoords=coords"
   ]
  },
  {
   "cell_type": "code",
   "execution_count": 25,
   "metadata": {
    "collapsed": true
   },
   "outputs": [],
   "source": [
    "kms_per_radian = 6371.0088 #haversine needs radians\n",
    "epsilon = 160 / kms_per_radian # otherwise outside of cluster (100 miles)\n",
    "db = DBSCAN(eps=epsilon, min_samples=1, algorithm='ball_tree', metric='haversine').fit(np.radians(subcoords))"
   ]
  },
  {
   "cell_type": "code",
   "execution_count": 26,
   "metadata": {
    "collapsed": false
   },
   "outputs": [
    {
     "name": "stdout",
     "output_type": "stream",
     "text": [
      "Number of clusters: 456\n"
     ]
    }
   ],
   "source": [
    "cluster_labels = db.labels_\n",
    "num_clusters = len(set(cluster_labels))\n",
    "clusters = pd.Series([subcoords[cluster_labels == n] for n in range(num_clusters)])\n",
    "print('Number of clusters: {}'.format(num_clusters))"
   ]
  },
  {
   "cell_type": "code",
   "execution_count": 27,
   "metadata": {
    "collapsed": false
   },
   "outputs": [],
   "source": [
    "df[\"terrorism_hotspot\"]=list(cluster_labels)"
   ]
  },
  {
   "cell_type": "code",
   "execution_count": 28,
   "metadata": {
    "collapsed": false
   },
   "outputs": [],
   "source": [
    "df[\"terrorism_hotspot\"]=df[\"terrorism_hotspot\"].astype('category')"
   ]
  },
  {
   "cell_type": "markdown",
   "metadata": {},
   "source": [
    "### e) refine model and drop columns that are adding noise"
   ]
  },
  {
   "cell_type": "code",
   "execution_count": 29,
   "metadata": {
    "collapsed": false
   },
   "outputs": [],
   "source": [
    "df=df.drop([\"individual\",\"crit1\",\"suicide\",\"ishostkid\",\"latitude\",\"longitude\",\"crit2\",\"crit3\"],axis=1)"
   ]
  },
  {
   "cell_type": "markdown",
   "metadata": {},
   "source": [
    "# Create Training and Testing Data Sets"
   ]
  },
  {
   "cell_type": "markdown",
   "metadata": {},
   "source": [
    "### a. splice out data that has no group assigned to the attack"
   ]
  },
  {
   "cell_type": "code",
   "execution_count": 30,
   "metadata": {
    "collapsed": false
   },
   "outputs": [],
   "source": [
    "dfgu=df.ix[df['gname']=='Unknown',:] #group unknown\n",
    "dfgk=df.ix[df['gname']!='Unknown',:]#group known"
   ]
  },
  {
   "cell_type": "code",
   "execution_count": 31,
   "metadata": {
    "collapsed": false
   },
   "outputs": [
    {
     "data": {
      "text/plain": [
       "True"
      ]
     },
     "execution_count": 31,
     "metadata": {},
     "output_type": "execute_result"
    }
   ],
   "source": [
    "len(df)==len(dfgu)+len(dfgk) #check that this is all the data"
   ]
  },
  {
   "cell_type": "markdown",
   "metadata": {},
   "source": [
    "### b. factorize categorical data"
   ]
  },
  {
   "cell_type": "code",
   "execution_count": 32,
   "metadata": {
    "collapsed": false
   },
   "outputs": [],
   "source": [
    "# Create a list of the feature column's names\n",
    "dfgk_cat=dfgk.select_dtypes(include=['category']).apply(lambda x: pd.factorize(x)[0])\n"
   ]
  },
  {
   "cell_type": "code",
   "execution_count": 33,
   "metadata": {
    "collapsed": false
   },
   "outputs": [],
   "source": [
    "dfgk_num=dfgk.select_dtypes(exclude=['category'])\n",
    "dfgk_fac = pd.concat([dfgk_cat,dfgk_num], axis=1)"
   ]
  },
  {
   "cell_type": "markdown",
   "metadata": {},
   "source": [
    "### c. split data training and test  sets"
   ]
  },
  {
   "cell_type": "code",
   "execution_count": 34,
   "metadata": {
    "collapsed": false
   },
   "outputs": [],
   "source": [
    "# randomly label some rows as training and some as test data.\n",
    "dfgk_fac['is_train'] = np.random.uniform(0, 1, len(dfgk_fac)) <= .70 #is train? 1/0 (75% training)\n"
   ]
  },
  {
   "cell_type": "code",
   "execution_count": 35,
   "metadata": {
    "collapsed": false
   },
   "outputs": [],
   "source": [
    "train, test = dfgk_fac[dfgk_fac['is_train']==True], dfgk_fac[dfgk_fac['is_train']==False]"
   ]
  },
  {
   "cell_type": "code",
   "execution_count": 36,
   "metadata": {
    "collapsed": false
   },
   "outputs": [
    {
     "name": "stdout",
     "output_type": "stream",
     "text": [
      "('total attacks in the training data:', 64466)\n",
      "('total attacks in the test data:', 27578)\n"
     ]
    }
   ],
   "source": [
    "# Show the number of observations\n",
    "train=train.drop(\"is_train\",axis=1)\n",
    "test=test.drop(\"is_train\",axis=1)\n",
    "print('total attacks in the training data:', len(train))\n",
    "print('total attacks in the test data:',len(test))\n"
   ]
  },
  {
   "cell_type": "code",
   "execution_count": 37,
   "metadata": {
    "collapsed": true
   },
   "outputs": [],
   "source": [
    "y=train[\"gname\"]"
   ]
  },
  {
   "cell_type": "code",
   "execution_count": 38,
   "metadata": {
    "collapsed": false
   },
   "outputs": [],
   "source": [
    "# Create a list of the feature column's names\n",
    "features = train.drop('gname',axis=1).columns[:]"
   ]
  },
  {
   "cell_type": "markdown",
   "metadata": {},
   "source": [
    "# Train Model"
   ]
  },
  {
   "cell_type": "code",
   "execution_count": 39,
   "metadata": {
    "collapsed": false
   },
   "outputs": [
    {
     "data": {
      "text/plain": [
       "RandomForestClassifier(bootstrap=True, class_weight=None, criterion='gini',\n",
       "            max_depth=15, max_features='auto', max_leaf_nodes=None,\n",
       "            min_samples_leaf=1, min_samples_split=2,\n",
       "            min_weight_fraction_leaf=0.0, n_estimators=30, n_jobs=4,\n",
       "            oob_score=False, random_state=0, verbose=0, warm_start=False)"
      ]
     },
     "execution_count": 39,
     "metadata": {},
     "output_type": "execute_result"
    }
   ],
   "source": [
    "# generated a random forest classifer (clf)\n",
    "clf = RandomForestClassifier(n_jobs=4,max_depth=15,random_state=0,warm_start=False,oob_score=False,n_estimators=30)\n",
    "# training the classifer on the terrorist group names\n",
    "clf.fit(train[features],y)"
   ]
  },
  {
   "cell_type": "markdown",
   "metadata": {
    "collapsed": true
   },
   "source": [
    "# Test Model on Data Piecewise to Avoid Memory Issues"
   ]
  },
  {
   "cell_type": "markdown",
   "metadata": {},
   "source": [
    "### test subset of training data"
   ]
  },
  {
   "cell_type": "markdown",
   "metadata": {},
   "source": [
    "pull of a subset "
   ]
  },
  {
   "cell_type": "code",
   "execution_count": 40,
   "metadata": {
    "collapsed": false
   },
   "outputs": [
    {
     "data": {
      "text/plain": [
       "27578"
      ]
     },
     "execution_count": 40,
     "metadata": {},
     "output_type": "execute_result"
    }
   ],
   "source": [
    "len(test)"
   ]
  },
  {
   "cell_type": "code",
   "execution_count": 41,
   "metadata": {
    "collapsed": true
   },
   "outputs": [],
   "source": [
    "div20=27500\n",
    "mytest=test.iloc[0:div20]"
   ]
  },
  {
   "cell_type": "markdown",
   "metadata": {},
   "source": [
    "write function that will predict given index of attack"
   ]
  },
  {
   "cell_type": "code",
   "execution_count": 42,
   "metadata": {
    "collapsed": true
   },
   "outputs": [],
   "source": [
    "def predset(index_attack):\n",
    "    return clf.predict(mytest[features].iloc[index_attack,:])"
   ]
  },
  {
   "cell_type": "markdown",
   "metadata": {},
   "source": [
    "create an index set for attacks (20 in each)"
   ]
  },
  {
   "cell_type": "code",
   "execution_count": 43,
   "metadata": {
    "collapsed": false
   },
   "outputs": [],
   "source": [
    "mysets=np.reshape(np.arange(0,div20),(div20/20,20)) #test 20 at a time\n",
    "preds=np.zeros(div20)"
   ]
  },
  {
   "cell_type": "markdown",
   "metadata": {},
   "source": [
    "have the model predict the group responsible"
   ]
  },
  {
   "cell_type": "code",
   "execution_count": 44,
   "metadata": {
    "collapsed": false
   },
   "outputs": [],
   "source": [
    "for set_index in mysets:\n",
    "    preds[set_index]=predset(set_index)"
   ]
  },
  {
   "cell_type": "markdown",
   "metadata": {},
   "source": [
    "see how accurate the predictions were"
   ]
  },
  {
   "cell_type": "markdown",
   "metadata": {},
   "source": [
    "# Evaluate Model"
   ]
  },
  {
   "cell_type": "code",
   "execution_count": 45,
   "metadata": {
    "collapsed": false
   },
   "outputs": [],
   "source": [
    "accuracy = accuracy_score(mytest['gname'], preds)"
   ]
  },
  {
   "cell_type": "code",
   "execution_count": 46,
   "metadata": {
    "collapsed": false
   },
   "outputs": [
    {
     "data": {
      "text/plain": [
       "0.79487272727272729"
      ]
     },
     "execution_count": 46,
     "metadata": {},
     "output_type": "execute_result"
    }
   ],
   "source": [
    "accuracy"
   ]
  },
  {
   "cell_type": "code",
   "execution_count": 47,
   "metadata": {
    "collapsed": false
   },
   "outputs": [
    {
     "data": {
      "text/plain": [
       "<matplotlib.image.AxesImage at 0x7f53f9b1d910>"
      ]
     },
     "execution_count": 47,
     "metadata": {},
     "output_type": "execute_result"
    },
    {
     "data": {
      "image/png": "[encoded data removed]",
      "text/plain": [
       "<matplotlib.figure.Figure at 0x7f53faebf3d0>"
      ]
     },
     "metadata": {},
     "output_type": "display_data"
    }
   ],
   "source": [
    "# Create confusion matrix\n",
    "#conf=pd.crosstab(mytest['gname'], preds, rownames=['Actual Group Name'], colnames=['Predicted Group Name'])\n",
    "plt.rcParams['figure.figsize'] = [12, 7]\n",
    "conf = confusion_matrix(mytest['gname'],preds)\n",
    "plt.imshow(conf[1:10,1:10],interpolation='None',)\n"
   ]
  },
  {
   "cell_type": "code",
   "execution_count": 48,
   "metadata": {
    "collapsed": false
   },
   "outputs": [],
   "source": [
    "#list(zip(train[features], clf.feature_importances_))"
   ]
  },
  {
   "cell_type": "code",
   "execution_count": 49,
   "metadata": {
    "collapsed": false
   },
   "outputs": [
    {
     "data": {
      "text/plain": [
       "<matplotlib.text.Text at 0x7f53fa19b510>"
      ]
     },
     "execution_count": 49,
     "metadata": {},
     "output_type": "execute_result"
    },
    {
     "data": {
      "image/png": "[encoded data removed]",
      "text/plain": [
       "<matplotlib.figure.Figure at 0x7f540fe46090>"
      ]
     },
     "metadata": {},
     "output_type": "display_data"
    }
   ],
   "source": [
    "importances = clf.feature_importances_\n",
    "findex = np.argsort(importances)\n",
    "plt.rcParams['figure.figsize'] = [12, 7]\n",
    "plt.figure(1)\n",
    "plt.title('The Importance of the Predictors')\n",
    "plt.barh(range(len(findex)), importances[findex], color='g', align='center')\n",
    "plt.yticks(range(len(findex)), features[findex])\n",
    "plt.xlabel('Relative Importance')"
   ]
  },
  {
   "cell_type": "markdown",
   "metadata": {},
   "source": [
    "#### Hack to Give us OOB score"
   ]
  },
  {
   "cell_type": "code",
   "execution_count": 50,
   "metadata": {
    "collapsed": false
   },
   "outputs": [
    {
     "name": "stderr",
     "output_type": "stream",
     "text": [
      "/home/ej/anaconda2/lib/python2.7/site-packages/sklearn/ensemble/forest.py:403: UserWarning: Some inputs do not have OOB scores. This probably means too few trees were used to compute any reliable oob estimates.\n",
      "  warn(\"Some inputs do not have OOB scores. \"\n"
     ]
    },
    {
     "data": {
      "text/plain": [
       "RandomForestClassifier(bootstrap=True, class_weight=None, criterion='gini',\n",
       "            max_depth=15, max_features='auto', max_leaf_nodes=None,\n",
       "            min_samples_leaf=1, min_samples_split=2,\n",
       "            min_weight_fraction_leaf=0.0, n_estimators=1, n_jobs=4,\n",
       "            oob_score=True, random_state=0, verbose=0, warm_start=True)"
      ]
     },
     "execution_count": 50,
     "metadata": {},
     "output_type": "execute_result"
    }
   ],
   "source": [
    "# generated a random forest classifer (clf)\n",
    "clf = RandomForestClassifier(n_jobs=4,max_depth=15,random_state=0,warm_start=True,oob_score=True,n_estimators=1)\n",
    "# training the classifer on the terrorist group names\n",
    "clf.fit(train[features].iloc[0:2000],y[0:2000])"
   ]
  },
  {
   "cell_type": "code",
   "execution_count": 51,
   "metadata": {
    "collapsed": false
   },
   "outputs": [
    {
     "data": {
      "text/plain": [
       "0.79600000000000004"
      ]
     },
     "execution_count": 51,
     "metadata": {},
     "output_type": "execute_result"
    }
   ],
   "source": [
    "1-clf.oob_score_"
   ]
  },
  {
   "cell_type": "markdown",
   "metadata": {},
   "source": [
    "This is close to what we found when we tested our model on data it had never seen before."
   ]
  },
  {
   "cell_type": "code",
   "execution_count": null,
   "metadata": {
    "collapsed": true
   },
   "outputs": [],
   "source": []
  },
  {
   "cell_type": "code",
   "execution_count": null,
   "metadata": {
    "collapsed": true
   },
   "outputs": [],
   "source": []
  }
 ],
 "metadata": {
  "kernelspec": {
   "display_name": "Python 2",
   "language": "python",
   "name": "python2"
  },
  "language_info": {
   "codemirror_mode": {
    "name": "ipython",
    "version": 2
   },
   "file_extension": ".py",
   "mimetype": "text/x-python",
   "name": "python",
   "nbconvert_exporter": "python",
   "pygments_lexer": "ipython2",
   "version": "2.7.12"
  }
 },
 "nbformat": 4,
 "nbformat_minor": 0
}
